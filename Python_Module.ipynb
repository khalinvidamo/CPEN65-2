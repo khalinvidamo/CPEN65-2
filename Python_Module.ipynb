{
  "nbformat": 4,
  "nbformat_minor": 0,
  "metadata": {
    "colab": {
      "provenance": [],
      "authorship_tag": "ABX9TyOvWisCKp9kyfaQSogyVEbe",
      "include_colab_link": true
    },
    "kernelspec": {
      "name": "python3",
      "display_name": "Python 3"
    },
    "language_info": {
      "name": "python"
    }
  },
  "cells": [
    {
      "cell_type": "markdown",
      "metadata": {
        "id": "view-in-github",
        "colab_type": "text"
      },
      "source": [
        "<a href=\"https://colab.research.google.com/github/khalinvidamo/CPEN65-2/blob/main/Python_Module.ipynb\" target=\"_parent\"><img src=\"https://colab.research.google.com/assets/colab-badge.svg\" alt=\"Open In Colab\"/></a>"
      ]
    },
    {
      "cell_type": "markdown",
      "source": [
        "# Array Module in Python"
      ],
      "metadata": {
        "id": "oTcQTf8i_O3-"
      }
    },
    {
      "cell_type": "code",
      "source": [
        "# Getting typecodes\n",
        "import array as arr\n",
        "arr.typecodes\n",
        "a = arr.array('i',[1,2,3,4,5])\n",
        "print(a.typecode)\n",
        "b = arr.array('f',[1.5,2.5,3.5,4.5,5.5])\n",
        "print(b.typecode)"
      ],
      "metadata": {
        "colab": {
          "base_uri": "https://localhost:8080/"
        },
        "id": "jM7dv6Ks_U3E",
        "outputId": "2764a369-4f60-4253-e886-b1234f31ab1c"
      },
      "execution_count": 1,
      "outputs": [
        {
          "output_type": "stream",
          "name": "stdout",
          "text": [
            "i\n",
            "f\n"
          ]
        }
      ]
    },
    {
      "cell_type": "code",
      "source": [
        "#What are the output of these\n",
        "import array as arr\n",
        "a = arr.array('i',[4,5,6,7])\n",
        "print(a)\n",
        "\n",
        "c = a.insert(1,2)\n",
        "print(a)\n",
        "a.insert(-1,0)\n",
        "print(a)\n",
        "a.insert(6,8)\n",
        "print(a)\n",
        "a.insert(10,-1)\n",
        "print(a)"
      ],
      "metadata": {
        "colab": {
          "base_uri": "https://localhost:8080/"
        },
        "id": "rE2ywYNy_X7N",
        "outputId": "7ad92b68-cb9a-48e1-b1a5-34cf16d6b257"
      },
      "execution_count": 2,
      "outputs": [
        {
          "output_type": "stream",
          "name": "stdout",
          "text": [
            "array('i', [4, 5, 6, 7])\n",
            "array('i', [4, 2, 5, 6, 7])\n",
            "array('i', [4, 2, 5, 6, 0, 7])\n",
            "array('i', [4, 2, 5, 6, 0, 7, 8])\n",
            "array('i', [4, 2, 5, 6, 0, 7, 8, -1])\n"
          ]
        }
      ]
    },
    {
      "cell_type": "code",
      "source": [
        "from IPython.core.history import HistorySavingThread\n",
        "#Python program to create a singly inked of vowel in english\n",
        "\n",
        "#Node Class\n",
        "\n",
        "class Node:\n",
        "  #function to  initialize the node object\n",
        "  def __init__(self,data):\n",
        "    self.data = data #assign data\n",
        "    self.next = None #initialize as null/empty\n",
        "\n",
        "#linked list that contains node object\n",
        "\n",
        "class LinkedList:\n",
        "  def __init__(self):\n",
        "    self.head = None\n",
        "\n",
        "  def printlist(self):\n",
        "    temp = self.head\n",
        "    while(temp):\n",
        "      print(temp.data)\n",
        "      temp=temp.next\n",
        "\n",
        "#code execution starting from epty list\n",
        "llist = LinkedList()\n",
        "llist.head = Node(\"a\")\n",
        "second = Node(\"e\")\n",
        "third = Node(\"i\")\n",
        "fourth = Node(\"o\")\n",
        "fifth = Node(\"u\")\n",
        "\n",
        "llist.head.next = second\n",
        "second.next = third\n",
        "third.next = fourth\n",
        "fourth.next = fifth\n",
        "\n",
        "llist.printlist()"
      ],
      "metadata": {
        "colab": {
          "base_uri": "https://localhost:8080/"
        },
        "id": "CxFevaij_qJs",
        "outputId": "e4b79362-7fbb-4917-dbef-b0058935891d"
      },
      "execution_count": 6,
      "outputs": [
        {
          "output_type": "stream",
          "name": "stdout",
          "text": [
            "a\n",
            "e\n",
            "i\n",
            "o\n",
            "u\n"
          ]
        }
      ]
    }
  ]
}