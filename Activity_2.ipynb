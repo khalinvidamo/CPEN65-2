{
  "nbformat": 4,
  "nbformat_minor": 0,
  "metadata": {
    "colab": {
      "provenance": [],
      "authorship_tag": "ABX9TyPNb7MyYPmgri0x8TszLjYO",
      "include_colab_link": true
    },
    "kernelspec": {
      "name": "python3",
      "display_name": "Python 3"
    },
    "language_info": {
      "name": "python"
    }
  },
  "cells": [
    {
      "cell_type": "markdown",
      "metadata": {
        "id": "view-in-github",
        "colab_type": "text"
      },
      "source": [
        "<a href=\"https://colab.research.google.com/github/khalinvidamo/CPEN65-2/blob/main/Activity_2.ipynb\" target=\"_parent\"><img src=\"https://colab.research.google.com/assets/colab-badge.svg\" alt=\"Open In Colab\"/></a>"
      ]
    },
    {
      "cell_type": "code",
      "execution_count": 1,
      "metadata": {
        "colab": {
          "base_uri": "https://localhost:8080/"
        },
        "id": "le_GCQcfSIjr",
        "outputId": "d11f35d5-f615-4456-b06b-60fa16458807"
      },
      "outputs": [
        {
          "output_type": "stream",
          "name": "stdout",
          "text": [
            "['V', 'I', 'D', 'A', 'M', 'O', 'K', 'H', 'A', 'L', 'I', 'N', 'R', 'O', 'S', 'E', 'A', 'D', 'M', 'A', 'N', 'A']\n",
            "['A', 'N', 'A', 'M', 'D', 'A', 'E', 'S', 'O', 'R', 'N', 'I', 'L', 'A', 'H', 'K', 'O', 'M', 'A', 'D', 'I', 'V']\n"
          ]
        }
      ],
      "source": [
        "#create a python program the use Array\n",
        "#insert each character of your full name and display each character of your full name in reverse order\n",
        "\n",
        "Name = [\"V\", \"I\",\"D\",\"A\",\"M\",\"O\",\"K\",\"H\",\"A\",\"L\",\"I\",\"N\",\"R\",\"O\",\"S\",\"E\",\"A\",\"D\",\"M\",\"A\",\"N\",\"A\"]\n",
        "print(Name)\n",
        "Name.reverse()\n",
        "print(Name)"
      ]
    }
  ]
}