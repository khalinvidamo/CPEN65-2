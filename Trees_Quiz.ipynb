{
  "nbformat": 4,
  "nbformat_minor": 0,
  "metadata": {
    "colab": {
      "provenance": [],
      "authorship_tag": "ABX9TyMpN47FHsiWOIEk/01xf0d/",
      "include_colab_link": true
    },
    "kernelspec": {
      "name": "python3",
      "display_name": "Python 3"
    },
    "language_info": {
      "name": "python"
    }
  },
  "cells": [
    {
      "cell_type": "markdown",
      "metadata": {
        "id": "view-in-github",
        "colab_type": "text"
      },
      "source": [
        "<a href=\"https://colab.research.google.com/github/khalinvidamo/CPEN65-2/blob/main/Trees_Quiz.ipynb\" target=\"_parent\"><img src=\"https://colab.research.google.com/assets/colab-badge.svg\" alt=\"Open In Colab\"/></a>"
      ]
    },
    {
      "cell_type": "code",
      "execution_count": null,
      "metadata": {
        "id": "Gw77GrLLcg7-"
      },
      "outputs": [],
      "source": [
        "6. Children of node 16? nodes 13, 6, 60\n",
        "\n",
        "7. Parent of node 1? nodes 7\n",
        "\n",
        "8. Siblings of node 23?  nodes = n/a\n",
        "\n",
        "9. Ancestors of node 9? nodes 4, 12, 7, 22\n",
        "\n",
        "10. Descendants of node 16? nodes 13, 23, 6, 60, 21\n",
        "\n",
        "11. Leaves. nodes 23, 6, 21, 20, 9, 1\n",
        "\n",
        "12. Non Leaves. nodes 13, 16, 60, 12, 7, 2\n",
        "\n",
        "13. Depth of node 4?\n",
        "      = 3\n",
        "\n",
        "14. Degree of the tree?\n",
        "      = 3\n",
        "\n",
        "15. Height of the tree?\n",
        "      = 4\n",
        "\n",
        "16. Weight of the tree?\n",
        "      = 6\n",
        "\n",
        "17. Is the tree a binary tree?\n",
        "\n",
        "     No, node 16 has a degree/number of children of 3 \n",
        "\n",
        "18.) Removing 6, is the tree a full binary tree?\n",
        "      Ans: No, nodes 13 and 60 have a degree of one.\n",
        "\n",
        "19.) Removing 6, is the tree a complete binary tree?\n",
        "      Ans: No, node 1, 23, 21, 20, and 9 have varying depths.\n",
        "\n",
        "20.) Is a full binary tree complete?\n",
        "      Ans: No, the leaves of a full binary tree can have different depths, but\n",
        "        For a tree to be a complete k-ary tree, all leaf nodes should have the\n",
        "        same depth.\n",
        "\n",
        "21.) Is a complete binary tree full?\n",
        "      Answer:Yes, a complete 2-ary tree should have leaf nodes of the same depth, but more importantly, \n",
        "      all of the non-leaf nodes of a complete 2-ary have a degree of two, which is also needed for \n",
        "      a tree to be considered a full binary tree.\n",
        "\n",
        "22.) How many leaves does a complete n-ary tree of height h have?.\n",
        "      Answer: You can calculate the number of leaves in a tree by using the formula n^h.\n",
        "For example, if the tree has a height of 4 and is a complete 3-ary tree, then n = 3 and h = 4. \n",
        "Substitution: 3^4 = 8. The tree has 81 leaf nodes in total.\n",
        "\n",
        "23.) What is the height of a complete n-ary tree with m leaves?.\n",
        "      Answer: The log base of n (m) formula can be used to calculate the tree's height.\n",
        "For instance, if a tree has 81 leaves and is a complete 3-ary tree, then n = 3, m = 81, Substitution: 3 log base (81),\n",
        "The tree is four feet tall.\n",
        "\n",
        "\n",
        "24.) What is the number of internal nodes of a complete n-ary tree of height h?.\n",
        "      Answer: The formula (n^h-1)/(nh-1) can be used to calculate the number of internal nodes in the tree (n-1).\n",
        "For example, if the tree is a complete 3-ary tree with a height of 4, then h = 4 and n = 3. Substitution: (3^4-1)/ (3-1)\n",
        "There are 40 internal nodes in the tree.\n",
        "\n",
        "\n",
        "25.) What is the total number of nodes a complete n-ary tree of h have?\n",
        "      Answer: The formula (n(h+1)-1)/ can be used to calculate the number of nodes in the tree (n-1).\n",
        "For example, if the tree is a complete 3-ary tree with a height of 4, then h = 4 and n = 3. Substitution (3^(4+1)-1)/ (3-1)\n",
        "There are 121 existing nodes in the tree.\n",
        "\n"
      ]
    }
  ]
}